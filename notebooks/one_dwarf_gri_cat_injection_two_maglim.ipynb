{
 "cells": [
  {
   "cell_type": "markdown",
   "id": "346b26b4-0d01-41da-a472-b8eafeff9dc1",
   "metadata": {},
   "source": [
    "# setup to create and ingest 2 gri dwarf catalogs"
   ]
  },
  {
   "cell_type": "code",
   "execution_count": 1,
   "id": "42868d1a-49cf-4c05-ae6a-84845fc29089",
   "metadata": {
    "execution": {
     "iopub.execute_input": "2023-09-26T19:38:55.582477Z",
     "iopub.status.busy": "2023-09-26T19:38:55.582349Z",
     "iopub.status.idle": "2023-09-26T19:38:57.542623Z",
     "shell.execute_reply": "2023-09-26T19:38:57.542184Z",
     "shell.execute_reply.started": "2023-09-26T19:38:55.582464Z"
    },
    "tags": []
   },
   "outputs": [
    {
     "name": "stdout",
     "output_type": "stream",
     "text": [
      "Overriding default configuration file with /opt/lsst/software/stack/stack/miniconda3-py38_4.9.2-7.0.1/Linux64/dustmaps_cachedata/gbb0a0c949e+81bc2a20b4/config/.dustmapsrc\n"
     ]
    }
   ],
   "source": [
    "import numpy as np\n",
    "import artpop\n",
    "import astropy.units as u\n",
    "from astropy.table import Table\n",
    "from astropy.coordinates import SkyCoord\n",
    "from dustmaps.sfd import SFDQuery\n",
    "import numpy as np\n",
    "import pandas as pd\n",
    "import sys\n",
    "sys.path.append(\"/home/p/pferguso/u/repos/psferguson/starlink/python/\")\n",
    "from synthpop import adopt_a_cat, massage_the_cat\n",
    "import utils as sl_utils\n",
    "from lsst.daf.butler import Butler, DimensionUniverse, DatasetType, CollectionType\n",
    "from lsst.daf.butler.registry import MissingCollectionError\n",
    "import lsst.source.injection as si"
   ]
  },
  {
   "cell_type": "code",
   "execution_count": 2,
   "id": "f77bfbd9-6768-4cbb-81ec-d820fb8978cd",
   "metadata": {
    "execution": {
     "iopub.execute_input": "2023-09-26T19:38:57.544623Z",
     "iopub.status.busy": "2023-09-26T19:38:57.544502Z",
     "iopub.status.idle": "2023-09-26T19:39:03.301630Z",
     "shell.execute_reply": "2023-09-26T19:39:03.301158Z",
     "shell.execute_reply.started": "2023-09-26T19:38:57.544611Z"
    },
    "tags": []
   },
   "outputs": [],
   "source": [
    "repo=\"/repo/main\"\n",
    "collection='HSC/runs/RC2/w_2023_32/DM-40356'\n",
    "butler = Butler(repo, collections=collection)\n",
    "registry = butler.registry"
   ]
  },
  {
   "cell_type": "code",
   "execution_count": 3,
   "id": "5f6543db-eb7d-46d0-b6cf-20c91feadf8c",
   "metadata": {
    "execution": {
     "iopub.execute_input": "2023-09-26T19:39:03.313228Z",
     "iopub.status.busy": "2023-09-26T19:39:03.313114Z",
     "iopub.status.idle": "2023-09-26T19:39:03.315267Z",
     "shell.execute_reply": "2023-09-26T19:39:03.314925Z",
     "shell.execute_reply.started": "2023-09-26T19:39:03.313216Z"
    },
    "tags": []
   },
   "outputs": [],
   "source": [
    "bands = [\"g\",\"r\",\"i\"]"
   ]
  },
  {
   "cell_type": "code",
   "execution_count": 4,
   "id": "d48a34b1-c6f7-4460-b59c-e98935f5e318",
   "metadata": {
    "execution": {
     "iopub.execute_input": "2023-09-26T19:39:03.315852Z",
     "iopub.status.busy": "2023-09-26T19:39:03.315732Z",
     "iopub.status.idle": "2023-09-26T19:39:03.319708Z",
     "shell.execute_reply": "2023-09-26T19:39:03.319340Z",
     "shell.execute_reply.started": "2023-09-26T19:39:03.315840Z"
    },
    "tags": []
   },
   "outputs": [],
   "source": [
    "dataid = {}\n",
    "for band in bands:\n",
    "    dataid[band] = {'band': band, 'skymap': 'hsc_rings_v1', 'tract': 9615, 'patch': 3}"
   ]
  },
  {
   "cell_type": "code",
   "execution_count": 5,
   "id": "5294c58f-2c9f-436f-82be-420e799b1220",
   "metadata": {
    "execution": {
     "iopub.execute_input": "2023-09-26T19:39:03.320284Z",
     "iopub.status.busy": "2023-09-26T19:39:03.320167Z",
     "iopub.status.idle": "2023-09-26T19:39:07.706406Z",
     "shell.execute_reply": "2023-09-26T19:39:07.705887Z",
     "shell.execute_reply.started": "2023-09-26T19:39:03.320274Z"
    },
    "tags": []
   },
   "outputs": [],
   "source": [
    "coadd = {}\n",
    "for band in bands: \n",
    "    coadd[band] = butler.get('deepCoadd_calexp', dataId=dataid[band])"
   ]
  },
  {
   "cell_type": "code",
   "execution_count": 6,
   "id": "44408b45-fc26-4cf6-ac82-c64009e9c455",
   "metadata": {
    "execution": {
     "iopub.execute_input": "2023-09-26T19:39:07.707450Z",
     "iopub.status.busy": "2023-09-26T19:39:07.706997Z",
     "iopub.status.idle": "2023-09-26T19:39:07.709909Z",
     "shell.execute_reply": "2023-09-26T19:39:07.709512Z",
     "shell.execute_reply.started": "2023-09-26T19:39:07.707436Z"
    },
    "tags": []
   },
   "outputs": [],
   "source": [
    "wcs = coadd[\"g\"].getWcs()\n",
    "bbox = coadd['g'].getBBox()"
   ]
  },
  {
   "cell_type": "markdown",
   "id": "a3a76e2e-bd00-4797-8b85-88e4b6ba324f",
   "metadata": {},
   "source": [
    "## Make the catalog to inject"
   ]
  },
  {
   "cell_type": "code",
   "execution_count": 7,
   "id": "e3f7a720-64dd-4551-9ff4-ab4f2454aa4c",
   "metadata": {
    "execution": {
     "iopub.execute_input": "2023-09-26T19:39:07.710533Z",
     "iopub.status.busy": "2023-09-26T19:39:07.710408Z",
     "iopub.status.idle": "2023-09-26T19:39:11.305607Z",
     "shell.execute_reply": "2023-09-26T19:39:11.305031Z",
     "shell.execute_reply.started": "2023-09-26T19:39:07.710522Z"
    },
    "tags": []
   },
   "outputs": [
    {
     "name": "stderr",
     "output_type": "stream",
     "text": [
      "WARNING: 989 stars outside the image\n"
     ]
    },
    {
     "data": {
      "text/html": [
       "<pre style=\"margin: 0.1em;\n",
       "padding-left: 0.25em;\n",
       "border-left-style: solid;\n",
       "font-family: var(--jp-code-font-family);\n",
       "font-size: var(--jp-code-font-size);\n",
       "line-height: var(--jp-code-line-height);\n",
       "\"><span style=\"color: var(--jp-warn-color2)\">ArtPop Logger</span> <span style=\"color: var(--jp-warn-color0)\">WARNING</span>: 989 stars outside the image</pre>"
      ],
      "text/plain": [
       "<IPython.core.display.HTML object>"
      ]
     },
     "metadata": {},
     "output_type": "display_data"
    }
   ],
   "source": [
    "cat0 = adopt_a_cat(wcs, bbox, 1000.0, 1000.0, r_scale=100.0, random_seed=69)"
   ]
  },
  {
   "cell_type": "code",
   "execution_count": 8,
   "id": "0fce8a90-d2f1-4971-918b-107f40446934",
   "metadata": {
    "execution": {
     "iopub.execute_input": "2023-09-26T19:39:11.362101Z",
     "iopub.status.busy": "2023-09-26T19:39:11.361970Z",
     "iopub.status.idle": "2023-09-26T19:39:16.991885Z",
     "shell.execute_reply": "2023-09-26T19:39:16.991353Z",
     "shell.execute_reply.started": "2023-09-26T19:39:11.362091Z"
    },
    "tags": []
   },
   "outputs": [],
   "source": [
    "writeable_butler =  Butler(repo, writeable=True)"
   ]
  },
  {
   "cell_type": "code",
   "execution_count": 9,
   "id": "24bef527-9e6b-4ee3-a0d6-e3f5590bdb34",
   "metadata": {
    "execution": {
     "iopub.execute_input": "2023-09-26T19:39:17.000320Z",
     "iopub.status.busy": "2023-09-26T19:39:17.000195Z",
     "iopub.status.idle": "2023-09-26T19:39:17.273142Z",
     "shell.execute_reply": "2023-09-26T19:39:17.272692Z",
     "shell.execute_reply.started": "2023-09-26T19:39:17.000309Z"
    },
    "tags": []
   },
   "outputs": [],
   "source": [
    "injection_cats={}\n",
    "si_input_collections = []\n",
    "for lim in [27,29,30,31,33]:\n",
    "    injection_cats[lim]={}\n",
    "    si_input_collections.append(f\"u/pferguso/full_dwarf_test/2_lim_{lim}\")\n",
    "    for band in bands: \n",
    "        injection_cats[lim][band] = massage_the_cat(cat0, float(lim), band, 1000.0, 1000.0, wcs, bbox, r_scale=100.0)\n",
    "    "
   ]
  },
  {
   "cell_type": "code",
   "execution_count": 10,
   "id": "45059ea1-eabc-4a43-a671-58b9d31222c2",
   "metadata": {
    "execution": {
     "iopub.execute_input": "2023-09-26T19:39:17.274207Z",
     "iopub.status.busy": "2023-09-26T19:39:17.274077Z",
     "iopub.status.idle": "2023-09-26T19:39:17.327839Z",
     "shell.execute_reply": "2023-09-26T19:39:17.327437Z",
     "shell.execute_reply.started": "2023-09-26T19:39:17.274196Z"
    },
    "tags": []
   },
   "outputs": [
    {
     "name": "stdout",
     "output_type": "stream",
     "text": [
      "Writing into a new RUN collection\n",
      "Writing into a new RUN collection\n",
      "Writing into a new RUN collection\n",
      "Writing into a new RUN collection\n",
      "Writing into a new RUN collection\n"
     ]
    }
   ],
   "source": [
    "for si_input_collection in si_input_collections:\n",
    "    try:\n",
    "        writeable_butler.removeRuns([si_input_collection])\n",
    "    except MissingCollectionError:\n",
    "        print(\"Writing into a new RUN collection\")\n",
    "        pass\n",
    "    else:\n",
    "        print(\"Prior RUN collection located and successfully removed\")\n",
    "\n",
    "    _ = writeable_butler.registry.registerCollection(si_input_collection, type=CollectionType.RUN)"
   ]
  },
  {
   "cell_type": "code",
   "execution_count": 11,
   "id": "6bf77806-b6b7-4337-9e90-b363b3fbf6e0",
   "metadata": {
    "execution": {
     "iopub.execute_input": "2023-09-26T19:39:27.704531Z",
     "iopub.status.busy": "2023-09-26T19:39:27.704300Z",
     "iopub.status.idle": "2023-09-26T19:39:28.846238Z",
     "shell.execute_reply": "2023-09-26T19:39:28.845849Z",
     "shell.execute_reply.started": "2023-09-26T19:39:27.704514Z"
    },
    "tags": []
   },
   "outputs": [
    {
     "data": {
      "text/html": [
       "<pre style=\"margin: 0.1em;\n",
       "padding-left: 0.25em;\n",
       "border-left-style: solid;\n",
       "font-family: var(--jp-code-font-family);\n",
       "font-size: var(--jp-code-font-size);\n",
       "line-height: var(--jp-code-line-height);\n",
       "\"><span style=\"color: var(--jp-warn-color2)\">lsst.source.injection.utils.ingest_injection_catalog</span> <span style=\"color: var(--jp-info-color0)\">INFO</span>: Ingested 2 g band injection_catalog DatasetRefs into the butler.</pre>"
      ],
      "text/plain": [
       "<IPython.core.display.HTML object>"
      ]
     },
     "metadata": {},
     "output_type": "display_data"
    },
    {
     "data": {
      "text/html": [
       "<pre style=\"margin: 0.1em;\n",
       "padding-left: 0.25em;\n",
       "border-left-style: solid;\n",
       "font-family: var(--jp-code-font-family);\n",
       "font-size: var(--jp-code-font-size);\n",
       "line-height: var(--jp-code-line-height);\n",
       "\"><span style=\"color: var(--jp-warn-color2)\">lsst.source.injection.utils.ingest_injection_catalog</span> <span style=\"color: var(--jp-info-color0)\">INFO</span>: Ingested 2 r band injection_catalog DatasetRefs into the butler.</pre>"
      ],
      "text/plain": [
       "<IPython.core.display.HTML object>"
      ]
     },
     "metadata": {},
     "output_type": "display_data"
    },
    {
     "data": {
      "text/html": [
       "<pre style=\"margin: 0.1em;\n",
       "padding-left: 0.25em;\n",
       "border-left-style: solid;\n",
       "font-family: var(--jp-code-font-family);\n",
       "font-size: var(--jp-code-font-size);\n",
       "line-height: var(--jp-code-line-height);\n",
       "\"><span style=\"color: var(--jp-warn-color2)\">lsst.source.injection.utils.ingest_injection_catalog</span> <span style=\"color: var(--jp-info-color0)\">INFO</span>: Ingested 2 i band injection_catalog DatasetRefs into the butler.</pre>"
      ],
      "text/plain": [
       "<IPython.core.display.HTML object>"
      ]
     },
     "metadata": {},
     "output_type": "display_data"
    },
    {
     "data": {
      "text/html": [
       "<pre style=\"margin: 0.1em;\n",
       "padding-left: 0.25em;\n",
       "border-left-style: solid;\n",
       "font-family: var(--jp-code-font-family);\n",
       "font-size: var(--jp-code-font-size);\n",
       "line-height: var(--jp-code-line-height);\n",
       "\"><span style=\"color: var(--jp-warn-color2)\">lsst.source.injection.utils.ingest_injection_catalog</span> <span style=\"color: var(--jp-info-color0)\">INFO</span>: Ingested 2 g band injection_catalog DatasetRefs into the butler.</pre>"
      ],
      "text/plain": [
       "<IPython.core.display.HTML object>"
      ]
     },
     "metadata": {},
     "output_type": "display_data"
    },
    {
     "data": {
      "text/html": [
       "<pre style=\"margin: 0.1em;\n",
       "padding-left: 0.25em;\n",
       "border-left-style: solid;\n",
       "font-family: var(--jp-code-font-family);\n",
       "font-size: var(--jp-code-font-size);\n",
       "line-height: var(--jp-code-line-height);\n",
       "\"><span style=\"color: var(--jp-warn-color2)\">lsst.source.injection.utils.ingest_injection_catalog</span> <span style=\"color: var(--jp-info-color0)\">INFO</span>: Ingested 2 r band injection_catalog DatasetRefs into the butler.</pre>"
      ],
      "text/plain": [
       "<IPython.core.display.HTML object>"
      ]
     },
     "metadata": {},
     "output_type": "display_data"
    },
    {
     "data": {
      "text/html": [
       "<pre style=\"margin: 0.1em;\n",
       "padding-left: 0.25em;\n",
       "border-left-style: solid;\n",
       "font-family: var(--jp-code-font-family);\n",
       "font-size: var(--jp-code-font-size);\n",
       "line-height: var(--jp-code-line-height);\n",
       "\"><span style=\"color: var(--jp-warn-color2)\">lsst.source.injection.utils.ingest_injection_catalog</span> <span style=\"color: var(--jp-info-color0)\">INFO</span>: Ingested 2 i band injection_catalog DatasetRefs into the butler.</pre>"
      ],
      "text/plain": [
       "<IPython.core.display.HTML object>"
      ]
     },
     "metadata": {},
     "output_type": "display_data"
    },
    {
     "data": {
      "text/html": [
       "<pre style=\"margin: 0.1em;\n",
       "padding-left: 0.25em;\n",
       "border-left-style: solid;\n",
       "font-family: var(--jp-code-font-family);\n",
       "font-size: var(--jp-code-font-size);\n",
       "line-height: var(--jp-code-line-height);\n",
       "\"><span style=\"color: var(--jp-warn-color2)\">lsst.source.injection.utils.ingest_injection_catalog</span> <span style=\"color: var(--jp-info-color0)\">INFO</span>: Ingested 2 g band injection_catalog DatasetRefs into the butler.</pre>"
      ],
      "text/plain": [
       "<IPython.core.display.HTML object>"
      ]
     },
     "metadata": {},
     "output_type": "display_data"
    },
    {
     "data": {
      "text/html": [
       "<pre style=\"margin: 0.1em;\n",
       "padding-left: 0.25em;\n",
       "border-left-style: solid;\n",
       "font-family: var(--jp-code-font-family);\n",
       "font-size: var(--jp-code-font-size);\n",
       "line-height: var(--jp-code-line-height);\n",
       "\"><span style=\"color: var(--jp-warn-color2)\">lsst.source.injection.utils.ingest_injection_catalog</span> <span style=\"color: var(--jp-info-color0)\">INFO</span>: Ingested 2 r band injection_catalog DatasetRefs into the butler.</pre>"
      ],
      "text/plain": [
       "<IPython.core.display.HTML object>"
      ]
     },
     "metadata": {},
     "output_type": "display_data"
    },
    {
     "data": {
      "text/html": [
       "<pre style=\"margin: 0.1em;\n",
       "padding-left: 0.25em;\n",
       "border-left-style: solid;\n",
       "font-family: var(--jp-code-font-family);\n",
       "font-size: var(--jp-code-font-size);\n",
       "line-height: var(--jp-code-line-height);\n",
       "\"><span style=\"color: var(--jp-warn-color2)\">lsst.source.injection.utils.ingest_injection_catalog</span> <span style=\"color: var(--jp-info-color0)\">INFO</span>: Ingested 2 i band injection_catalog DatasetRefs into the butler.</pre>"
      ],
      "text/plain": [
       "<IPython.core.display.HTML object>"
      ]
     },
     "metadata": {},
     "output_type": "display_data"
    },
    {
     "data": {
      "text/html": [
       "<pre style=\"margin: 0.1em;\n",
       "padding-left: 0.25em;\n",
       "border-left-style: solid;\n",
       "font-family: var(--jp-code-font-family);\n",
       "font-size: var(--jp-code-font-size);\n",
       "line-height: var(--jp-code-line-height);\n",
       "\"><span style=\"color: var(--jp-warn-color2)\">lsst.source.injection.utils.ingest_injection_catalog</span> <span style=\"color: var(--jp-info-color0)\">INFO</span>: Ingested 3 g band injection_catalog DatasetRefs into the butler.</pre>"
      ],
      "text/plain": [
       "<IPython.core.display.HTML object>"
      ]
     },
     "metadata": {},
     "output_type": "display_data"
    },
    {
     "data": {
      "text/html": [
       "<pre style=\"margin: 0.1em;\n",
       "padding-left: 0.25em;\n",
       "border-left-style: solid;\n",
       "font-family: var(--jp-code-font-family);\n",
       "font-size: var(--jp-code-font-size);\n",
       "line-height: var(--jp-code-line-height);\n",
       "\"><span style=\"color: var(--jp-warn-color2)\">lsst.source.injection.utils.ingest_injection_catalog</span> <span style=\"color: var(--jp-info-color0)\">INFO</span>: Ingested 3 r band injection_catalog DatasetRefs into the butler.</pre>"
      ],
      "text/plain": [
       "<IPython.core.display.HTML object>"
      ]
     },
     "metadata": {},
     "output_type": "display_data"
    },
    {
     "data": {
      "text/html": [
       "<pre style=\"margin: 0.1em;\n",
       "padding-left: 0.25em;\n",
       "border-left-style: solid;\n",
       "font-family: var(--jp-code-font-family);\n",
       "font-size: var(--jp-code-font-size);\n",
       "line-height: var(--jp-code-line-height);\n",
       "\"><span style=\"color: var(--jp-warn-color2)\">lsst.source.injection.utils.ingest_injection_catalog</span> <span style=\"color: var(--jp-info-color0)\">INFO</span>: Ingested 3 i band injection_catalog DatasetRefs into the butler.</pre>"
      ],
      "text/plain": [
       "<IPython.core.display.HTML object>"
      ]
     },
     "metadata": {},
     "output_type": "display_data"
    },
    {
     "data": {
      "text/html": [
       "<pre style=\"margin: 0.1em;\n",
       "padding-left: 0.25em;\n",
       "border-left-style: solid;\n",
       "font-family: var(--jp-code-font-family);\n",
       "font-size: var(--jp-code-font-size);\n",
       "line-height: var(--jp-code-line-height);\n",
       "\"><span style=\"color: var(--jp-warn-color2)\">lsst.source.injection.utils.ingest_injection_catalog</span> <span style=\"color: var(--jp-info-color0)\">INFO</span>: Ingested 3 g band injection_catalog DatasetRefs into the butler.</pre>"
      ],
      "text/plain": [
       "<IPython.core.display.HTML object>"
      ]
     },
     "metadata": {},
     "output_type": "display_data"
    },
    {
     "data": {
      "text/html": [
       "<pre style=\"margin: 0.1em;\n",
       "padding-left: 0.25em;\n",
       "border-left-style: solid;\n",
       "font-family: var(--jp-code-font-family);\n",
       "font-size: var(--jp-code-font-size);\n",
       "line-height: var(--jp-code-line-height);\n",
       "\"><span style=\"color: var(--jp-warn-color2)\">lsst.source.injection.utils.ingest_injection_catalog</span> <span style=\"color: var(--jp-info-color0)\">INFO</span>: Ingested 3 r band injection_catalog DatasetRefs into the butler.</pre>"
      ],
      "text/plain": [
       "<IPython.core.display.HTML object>"
      ]
     },
     "metadata": {},
     "output_type": "display_data"
    },
    {
     "data": {
      "text/html": [
       "<pre style=\"margin: 0.1em;\n",
       "padding-left: 0.25em;\n",
       "border-left-style: solid;\n",
       "font-family: var(--jp-code-font-family);\n",
       "font-size: var(--jp-code-font-size);\n",
       "line-height: var(--jp-code-line-height);\n",
       "\"><span style=\"color: var(--jp-warn-color2)\">lsst.source.injection.utils.ingest_injection_catalog</span> <span style=\"color: var(--jp-info-color0)\">INFO</span>: Ingested 3 i band injection_catalog DatasetRefs into the butler.</pre>"
      ],
      "text/plain": [
       "<IPython.core.display.HTML object>"
      ]
     },
     "metadata": {},
     "output_type": "display_data"
    }
   ],
   "source": [
    "for lim in [27,29,30,31,33]:\n",
    "    for band in bands:\n",
    "        dataset_ref_lim32 = si.ingest_injection_catalog(\n",
    "            writeable_butler=writeable_butler,\n",
    "            table=injection_cats[lim][band],\n",
    "            band=band,\n",
    "            output_collection=f\"u/pferguso/full_dwarf_test/2_lim_{lim}\",\n",
    "            dataset_type_name='injection_catalog'\n",
    "        )"
   ]
  },
  {
   "cell_type": "code",
   "execution_count": 14,
   "id": "c3c4afbf-188c-4bd4-ba3f-e31f4fc77070",
   "metadata": {
    "execution": {
     "iopub.execute_input": "2023-09-26T19:35:42.040049Z",
     "iopub.status.busy": "2023-09-26T19:35:42.039769Z",
     "iopub.status.idle": "2023-09-26T19:35:42.061739Z",
     "shell.execute_reply": "2023-09-26T19:35:42.061257Z",
     "shell.execute_reply.started": "2023-09-26T19:35:42.040036Z"
    },
    "tags": []
   },
   "outputs": [
    {
     "ename": "NameError",
     "evalue": "name 'writeable_butler' is not defined",
     "output_type": "error",
     "traceback": [
      "\u001b[0;31m---------------------------------------------------------------------------\u001b[0m",
      "\u001b[0;31mNameError\u001b[0m                                 Traceback (most recent call last)",
      "Cell \u001b[0;32mIn[14], line 8\u001b[0m\n\u001b[1;32m      1\u001b[0m si_dataset_type \u001b[38;5;241m=\u001b[39m  DatasetType(\n\u001b[1;32m      2\u001b[0m     \u001b[38;5;124m\"\u001b[39m\u001b[38;5;124msi_cat\u001b[39m\u001b[38;5;124m\"\u001b[39m,\n\u001b[1;32m      3\u001b[0m     dimensions\u001b[38;5;241m=\u001b[39m[\u001b[38;5;124m\"\u001b[39m\u001b[38;5;124mskymap\u001b[39m\u001b[38;5;124m\"\u001b[39m, \u001b[38;5;124m\"\u001b[39m\u001b[38;5;124mtract\u001b[39m\u001b[38;5;124m\"\u001b[39m],\n\u001b[1;32m      4\u001b[0m     storageClass\u001b[38;5;241m=\u001b[39m\u001b[38;5;124m\"\u001b[39m\u001b[38;5;124mDataFrame\u001b[39m\u001b[38;5;124m\"\u001b[39m,\n\u001b[1;32m      5\u001b[0m     universe\u001b[38;5;241m=\u001b[39mDimensionUniverse(),\n\u001b[1;32m      6\u001b[0m )\n\u001b[0;32m----> 8\u001b[0m \u001b[43mwriteable_butler\u001b[49m\u001b[38;5;241m.\u001b[39mregistry\u001b[38;5;241m.\u001b[39mregisterDatasetType(si_dataset_type)\n",
      "\u001b[0;31mNameError\u001b[0m: name 'writeable_butler' is not defined"
     ]
    }
   ],
   "source": [
    "# si_dataset_type =  DatasetType(\n",
    "#     \"si_cat\",\n",
    "#     dimensions=[\"skymap\", \"tract\"],\n",
    "#     storageClass=\"DataFrame\",\n",
    "#     universe=DimensionUniverse(),\n",
    "# )\n",
    "\n",
    "# writeable_butler.registry.registerDatasetType(si_dataset_type)"
   ]
  },
  {
   "cell_type": "code",
   "execution_count": 29,
   "id": "92b2bd52-0c4a-4cb8-bb3b-458ea7164c68",
   "metadata": {
    "execution": {
     "iopub.execute_input": "2023-09-25T19:57:14.795371Z",
     "iopub.status.busy": "2023-09-25T19:57:14.794846Z",
     "iopub.status.idle": "2023-09-25T19:57:15.250118Z",
     "shell.execute_reply": "2023-09-25T19:57:15.249727Z",
     "shell.execute_reply.started": "2023-09-25T19:57:14.795355Z"
    },
    "tags": []
   },
   "outputs": [
    {
     "data": {
      "text/html": [
       "<pre style=\"margin: 0.1em;\n",
       "padding-left: 0.25em;\n",
       "border-left-style: solid;\n",
       "font-family: var(--jp-code-font-family);\n",
       "font-size: var(--jp-code-font-size);\n",
       "line-height: var(--jp-code-line-height);\n",
       "\"><span style=\"color: var(--jp-warn-color2)\">lsst.source.injection.utils.ingest_injection_catalog</span> <span style=\"color: var(--jp-info-color0)\">INFO</span>: Ingested 3 g band injection_catalog DatasetRefs into the butler.</pre>"
      ],
      "text/plain": [
       "<IPython.core.display.HTML object>"
      ]
     },
     "metadata": {},
     "output_type": "display_data"
    },
    {
     "data": {
      "text/html": [
       "<pre style=\"margin: 0.1em;\n",
       "padding-left: 0.25em;\n",
       "border-left-style: solid;\n",
       "font-family: var(--jp-code-font-family);\n",
       "font-size: var(--jp-code-font-size);\n",
       "line-height: var(--jp-code-line-height);\n",
       "\"><span style=\"color: var(--jp-warn-color2)\">lsst.source.injection.utils.ingest_injection_catalog</span> <span style=\"color: var(--jp-info-color0)\">INFO</span>: Ingested 2 g band injection_catalog DatasetRefs into the butler.</pre>"
      ],
      "text/plain": [
       "<IPython.core.display.HTML object>"
      ]
     },
     "metadata": {},
     "output_type": "display_data"
    },
    {
     "name": "stdout",
     "output_type": "stream",
     "text": [
      "dataset_ref_lim32 = [DatasetRef(DatasetType('injection_catalog', {band, htm7}, ArrowAstropy), {band: 'g', htm7: 165960}, run='u/pferguso/full_dwarf_test/2_lim_32', id=6e52a607-92e8-4073-baf1-833c06b579de), DatasetRef(DatasetType('injection_catalog', {band, htm7}, ArrowAstropy), {band: 'g', htm7: 165988}, run='u/pferguso/full_dwarf_test/2_lim_32', id=b21fe010-6d10-4a97-8df5-a574199f2826), DatasetRef(DatasetType('injection_catalog', {band, htm7}, ArrowAstropy), {band: 'g', htm7: 166004}, run='u/pferguso/full_dwarf_test/2_lim_32', id=1410fb95-1ed8-4080-8723-d00e3468923f)]\n"
     ]
    },
    {
     "data": {
      "text/html": [
       "<pre style=\"margin: 0.1em;\n",
       "padding-left: 0.25em;\n",
       "border-left-style: solid;\n",
       "font-family: var(--jp-code-font-family);\n",
       "font-size: var(--jp-code-font-size);\n",
       "line-height: var(--jp-code-line-height);\n",
       "\"><span style=\"color: var(--jp-warn-color2)\">lsst.source.injection.utils.ingest_injection_catalog</span> <span style=\"color: var(--jp-info-color0)\">INFO</span>: Ingested 3 r band injection_catalog DatasetRefs into the butler.</pre>"
      ],
      "text/plain": [
       "<IPython.core.display.HTML object>"
      ]
     },
     "metadata": {},
     "output_type": "display_data"
    },
    {
     "data": {
      "text/html": [
       "<pre style=\"margin: 0.1em;\n",
       "padding-left: 0.25em;\n",
       "border-left-style: solid;\n",
       "font-family: var(--jp-code-font-family);\n",
       "font-size: var(--jp-code-font-size);\n",
       "line-height: var(--jp-code-line-height);\n",
       "\"><span style=\"color: var(--jp-warn-color2)\">lsst.source.injection.utils.ingest_injection_catalog</span> <span style=\"color: var(--jp-info-color0)\">INFO</span>: Ingested 2 r band injection_catalog DatasetRefs into the butler.</pre>"
      ],
      "text/plain": [
       "<IPython.core.display.HTML object>"
      ]
     },
     "metadata": {},
     "output_type": "display_data"
    },
    {
     "name": "stdout",
     "output_type": "stream",
     "text": [
      "dataset_ref_lim32 = [DatasetRef(DatasetType('injection_catalog', {band, htm7}, ArrowAstropy), {band: 'r', htm7: 165960}, run='u/pferguso/full_dwarf_test/2_lim_32', id=385f99a7-ceba-43ba-9faa-526d5eb1ba21), DatasetRef(DatasetType('injection_catalog', {band, htm7}, ArrowAstropy), {band: 'r', htm7: 165988}, run='u/pferguso/full_dwarf_test/2_lim_32', id=7398257e-bdca-467d-94ae-50c119402670), DatasetRef(DatasetType('injection_catalog', {band, htm7}, ArrowAstropy), {band: 'r', htm7: 166004}, run='u/pferguso/full_dwarf_test/2_lim_32', id=e0847f4b-2dc0-4239-a6a7-0df8c573d86d)]\n"
     ]
    },
    {
     "data": {
      "text/html": [
       "<pre style=\"margin: 0.1em;\n",
       "padding-left: 0.25em;\n",
       "border-left-style: solid;\n",
       "font-family: var(--jp-code-font-family);\n",
       "font-size: var(--jp-code-font-size);\n",
       "line-height: var(--jp-code-line-height);\n",
       "\"><span style=\"color: var(--jp-warn-color2)\">lsst.source.injection.utils.ingest_injection_catalog</span> <span style=\"color: var(--jp-info-color0)\">INFO</span>: Ingested 3 i band injection_catalog DatasetRefs into the butler.</pre>"
      ],
      "text/plain": [
       "<IPython.core.display.HTML object>"
      ]
     },
     "metadata": {},
     "output_type": "display_data"
    },
    {
     "data": {
      "text/html": [
       "<pre style=\"margin: 0.1em;\n",
       "padding-left: 0.25em;\n",
       "border-left-style: solid;\n",
       "font-family: var(--jp-code-font-family);\n",
       "font-size: var(--jp-code-font-size);\n",
       "line-height: var(--jp-code-line-height);\n",
       "\"><span style=\"color: var(--jp-warn-color2)\">lsst.source.injection.utils.ingest_injection_catalog</span> <span style=\"color: var(--jp-info-color0)\">INFO</span>: Ingested 2 i band injection_catalog DatasetRefs into the butler.</pre>"
      ],
      "text/plain": [
       "<IPython.core.display.HTML object>"
      ]
     },
     "metadata": {},
     "output_type": "display_data"
    },
    {
     "name": "stdout",
     "output_type": "stream",
     "text": [
      "dataset_ref_lim32 = [DatasetRef(DatasetType('injection_catalog', {band, htm7}, ArrowAstropy), {band: 'i', htm7: 165960}, run='u/pferguso/full_dwarf_test/2_lim_32', id=0d81ff51-01ca-484e-ba74-a1d37b261c88), DatasetRef(DatasetType('injection_catalog', {band, htm7}, ArrowAstropy), {band: 'i', htm7: 165988}, run='u/pferguso/full_dwarf_test/2_lim_32', id=e348caf7-2269-4d28-803f-0b34ace3c8f9), DatasetRef(DatasetType('injection_catalog', {band, htm7}, ArrowAstropy), {band: 'i', htm7: 166004}, run='u/pferguso/full_dwarf_test/2_lim_32', id=200fc33f-f101-4f03-9f49-142aea199939)]\n"
     ]
    }
   ],
   "source": [
    "for band in bands:\n",
    "    dataset_ref_lim32 = si.ingest_injection_catalog(\n",
    "        writeable_butler=writeable_butler,\n",
    "        table=cat_lim32[band],\n",
    "        band=band,\n",
    "        output_collection=\"u/pferguso/full_dwarf_test/2_lim_32\",\n",
    "        dataset_type_name='injection_catalog'\n",
    "    )\n",
    "\n",
    "    dataset_ref_lim28 = si.ingest_injection_catalog(\n",
    "        writeable_butler=writeable_butler,\n",
    "        table=cat_lim28[band],\n",
    "        band=band,\n",
    "        output_collection=\"u/pferguso/full_dwarf_test/2_lim_28\",\n",
    "        dataset_type_name='injection_catalog'\n",
    "    )\n",
    "\n",
    "    print(f'{dataset_ref_lim32 = }')"
   ]
  }
 ],
 "metadata": {
  "kernelspec": {
   "display_name": "LSST",
   "language": "python",
   "name": "lsst"
  },
  "language_info": {
   "codemirror_mode": {
    "name": "ipython",
    "version": 3
   },
   "file_extension": ".py",
   "mimetype": "text/x-python",
   "name": "python",
   "nbconvert_exporter": "python",
   "pygments_lexer": "ipython3",
   "version": "3.11.4"
  }
 },
 "nbformat": 4,
 "nbformat_minor": 5
}
