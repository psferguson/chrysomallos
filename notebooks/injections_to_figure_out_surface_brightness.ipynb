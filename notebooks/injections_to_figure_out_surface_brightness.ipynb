{
 "cells": [
  {
   "cell_type": "code",
   "execution_count": null,
   "id": "730cdd1f-b78b-4daf-b27a-bda28826f669",
   "metadata": {
    "tags": []
   },
   "outputs": [],
   "source": [
    "import os\n",
    "import sys \n",
    "sys.path.append(\"/home/p/pferguso/u/repos/psferguson/starlink/python/\")\n",
    "sys.path.append(\"/home/p/pferguso/u/repos/ArtPop/src/\")\n",
    "from math import ceil\n",
    "from starlink import DwarfConfig,CreateDwarfInjectionCatalog, sb_rh_to_mv, sb_mv_to_rh, mstar_from_absmag\n",
    "import lsst.source.injection as si\n",
    "import numpy as np\n",
    "import matplotlib.pyplot as plt\n",
    "from lsst.daf.butler import Butler, DimensionUniverse, DatasetType, CollectionType\n",
    "import lsst.afw.display as afwDisplay\n",
    "afwDisplay.setDefaultBackend('matplotlib')\n",
    "from tqdm import tqdm\n",
    "import astropy.units as u\n",
    "import logging \n",
    "logging.getLogger('Starlink Logger').setLevel(logging.CRITICAL)\n",
    "logging.getLogger('lsst.coaddInjectTask').setLevel(logging.CRITICAL)\n",
    " "
   ]
  },
  {
   "cell_type": "code",
   "execution_count": null,
   "id": "80fcfdb9-ef0e-4ae3-b24f-e32f48ef26d8",
   "metadata": {
    "tags": []
   },
   "outputs": [],
   "source": [
    "default_config_dict={\n",
    "    \"repo\" : \"/repo/main\",\n",
    "    \"collection\" : 'HSC/runs/RC2/w_2023_32/DM-40356',\n",
    "    \"tract\": 9615,\n",
    "    \"patch\": 3,\n",
    "    \"bands\" : [\"g\"],\n",
    "    \"dwarfs\": []\n",
    "    }\n",
    "default_dwarf_dict={ 'id': 0,\n",
    "                     'x_cen': 1000,\n",
    "                     'y_cen': 1000,\n",
    "                     'age': 10.0,\n",
    "                     'feh': -2.0,\n",
    "                     'mass': 500000.0,\n",
    "                     'dist': 4.0,\n",
    "                     'r_scale': 200,\n",
    "                     'ellip': 0,\n",
    "                     'theta': 0,\n",
    "                     'n': 1,\n",
    "                     'mag_limit': 28,\n",
    "                     'mag_limit_band': 'LSST_g'}"
   ]
  },
  {
   "cell_type": "code",
   "execution_count": null,
   "id": "639bf13b-e92c-4438-ac19-8d24096bd566",
   "metadata": {
    "tags": []
   },
   "outputs": [],
   "source": [
    "repo=\"/repo/main\"\n",
    "collection='HSC/runs/RC2/w_2023_32/DM-40356'\n",
    "butler = Butler(repo, collections=collection)\n",
    "registry = butler.registry"
   ]
  },
  {
   "cell_type": "code",
   "execution_count": null,
   "id": "93e88872-9ec1-4d2e-8bbb-b623142c39f2",
   "metadata": {
    "tags": []
   },
   "outputs": [],
   "source": [
    "\n",
    "mag_lim = 27\n",
    "x_cen=1500\n",
    "y_cen=2500\n",
    "dist = 2\n",
    "surface_brighness_vals = np.arange(23,27,1)\n",
    "mV_vals = np.arange(-4,-11,-2)\n",
    "\n"
   ]
  },
  {
   "cell_type": "code",
   "execution_count": null,
   "id": "a8ed8a57-1f20-4a0b-b96a-e80f06daa212",
   "metadata": {
    "tags": []
   },
   "outputs": [],
   "source": [
    "mV_vals"
   ]
  },
  {
   "cell_type": "code",
   "execution_count": null,
   "id": "b052e308-d297-4672-94d8-97723fdc965b",
   "metadata": {
    "tags": []
   },
   "outputs": [],
   "source": [
    "surface_brighness_vals"
   ]
  },
  {
   "cell_type": "code",
   "execution_count": null,
   "id": "56aeeb8a-94fd-4f1d-a553-54d48740d9c4",
   "metadata": {
    "tags": []
   },
   "outputs": [],
   "source": [
    "new_config_dict=default_config_dict.copy()\n",
    "new_config_dict[\"inject_cat_collection\"] = f\"test\""
   ]
  },
  {
   "cell_type": "code",
   "execution_count": null,
   "id": "fcd54dc8-8a17-45ba-b3b1-41fe9e994093",
   "metadata": {
    "tags": []
   },
   "outputs": [],
   "source": [
    "bands=[\"g\"]\n",
    "for band in bands:\n",
    "    dataid = {'band': band, 'skymap': 'hsc_rings_v1', 'tract': 9615, 'patch': 3}\n",
    "    image_dict = {}\n",
    "    image_dict[band] = butler.get('deepCoadd_calexp', dataId=dataid)\n",
    "    \n",
    "    \n",
    "    \n",
    "    "
   ]
  },
  {
   "cell_type": "code",
   "execution_count": null,
   "id": "b6d06dc7-d204-4526-ab0f-55afb133d77b",
   "metadata": {
    "tags": []
   },
   "outputs": [],
   "source": [
    "wcs=image_dict[\"g\"].getWcs()\n",
    "bbox=image_dict[\"g\"].getBBox()"
   ]
  },
  {
   "cell_type": "code",
   "execution_count": null,
   "id": "6921dd7d-f7c8-4e8b-a9b8-52b1fbe6e963",
   "metadata": {
    "tags": []
   },
   "outputs": [],
   "source": [
    "((wcs.getPixelScale() * 600 ).asRadians() * 2 * u.Mpc).to(u.pc)"
   ]
  },
  {
   "cell_type": "code",
   "execution_count": null,
   "id": "479cbc5d-2845-4b28-94e4-aa3814ff9a94",
   "metadata": {
    "tags": []
   },
   "outputs": [],
   "source": [
    "sb_mv_to_rh(27,-11, distance=2e6)"
   ]
  },
  {
   "cell_type": "code",
   "execution_count": null,
   "id": "694d71b8-a11a-4b05-bc61-3490d01e0cc1",
   "metadata": {
    "tags": []
   },
   "outputs": [],
   "source": [
    "catalogs={}\n",
    "j=0\n",
    "\n",
    "\n",
    "for sb in tqdm(surface_brighness_vals[:]):\n",
    "    for mV in mV_vals:\n",
    "        r_h = sb_mv_to_rh(sb,mV, distance=2e6)\n",
    "        mass = mstar_from_absmag(mV)\n",
    "\n",
    "        dwarf_dicts=[]\n",
    "        new_config_dict=default_config_dict.copy()\n",
    "        new_config_dict[\"inject_cat_collection\"] = f\"test\"\n",
    "        dwarf_dict=default_dwarf_dict.copy()\n",
    "        dwarf_dict['id'] = j\n",
    "        dwarf_dict[\"dist\"]= dist\n",
    "        j += 1\n",
    "        dwarf_dict['x_cen'] = x_cen\n",
    "        dwarf_dict['y_cen'] = y_cen\n",
    "        dwarf_dicts.append(dwarf_dict)\n",
    "        dwarf_dict[\"r_scale\"]=r_h\n",
    "        dwarf_dict[\"sb\"]=sb\n",
    "        dwarf_dict['mag_limit']=mag_lim\n",
    "\n",
    "        dwarf_dict[\"m_v\"]=mV\n",
    "\n",
    "\n",
    "        dwarf_dict[\"mass\"]=mass\n",
    "\n",
    "\n",
    "\n",
    "        new_config_dict[\"dwarfs\"]=dwarf_dicts \n",
    "        creator=CreateDwarfInjectionCatalog(new_config_dict)\n",
    "        tmp_catalog=creator.run(ingest=False,coadd_dict=image_dict)[\"g\"]\n",
    "        x_pix,y_pix = wcs.skyToPixelArray(tmp_catalog['ra'], tmp_catalog['dec'], degrees=True)\n",
    "        sel = ((abs(x_pix-x_cen-bbox.beginX) < 400) &  (abs(y_pix-y_cen-bbox.beginY) < 400)) | (tmp_catalog[\"source_type\"]==\"Sersic\")\n",
    "        new_catalog_dict={\"config\":new_config_dict,\"catalog\":tmp_catalog[sel]}\n",
    "        catalogs[j]=new_catalog_dict\n",
    "            \n",
    "            \n",
    "            "
   ]
  },
  {
   "cell_type": "code",
   "execution_count": null,
   "id": "8e302599-aad1-4dbb-83a6-81ddbfac0644",
   "metadata": {
    "tags": []
   },
   "outputs": [],
   "source": [
    "# catalogs={}\n",
    "# j=0\n",
    "# dist = 4\n",
    "# minx=11900\n",
    "# sb=19\n",
    "# mV=-11\n",
    "# # for sb in tqdm(surface_brighness_vals[:]):\n",
    "# #     for mV in mV_vals:\n",
    "# r_h = sb_mv_to_rh(sb,mV, distance=2e6)\n",
    "# mass = mstar_from_absmag(mV)\n",
    "# for mag_limit in np.arange(21,30,2):\n",
    "#             dwarf_dicts=[]\n",
    "#             new_config_dict=default_config_dict.copy()\n",
    "#             new_config_dict[\"inject_cat_collection\"] = f\"test\"\n",
    "#             dwarf_dict=default_dwarf_dict.copy()\n",
    "#             dwarf_dict['id'] = j\n",
    "#             j += 1\n",
    "#             dwarf_dict[\"dist\"]= dist\n",
    "\n",
    "#             dwarf_dict['x_cen'] = x_cen\n",
    "#             dwarf_dict['y_cen'] = y_cen\n",
    "#             dwarf_dict[\"r_scale\"]=r_h\n",
    "#             dwarf_dict[\"sb\"]=sb\n",
    "#             dwarf_dict['mag_limit']=mag_limit\n",
    "\n",
    "#             dwarf_dict[\"m_v\"]=mV\n",
    "#             dwarf_dict[\"random_seed\"]=69\n",
    "#             dwarf_dicts.append(dwarf_dict)\n",
    "            \n",
    "\n",
    "\n",
    "#             dwarf_dict[\"mass\"]=mass\n",
    "#             new_config_dict[\"dwarfs\"]=dwarf_dicts \n",
    "#             creator=CreateDwarfInjectionCatalog(new_config_dict)\n",
    "#             tmp_catalog=creator.run(ingest=False,coadd_dict=image_dict)[\"g\"]\n",
    "#             x_pix,y_pix = wcs.skyToPixelArray(tmp_catalog['ra'], tmp_catalog['dec'], degrees=True)\n",
    "#             #sel = ((abs(x_pix-x_cen-bbox.beginX) < 400) &  (abs(y_pix-y_cen-bbox.beginY) < 400)) | \n",
    "#             sel = (tmp_catalog[\"source_type\"]==\"Sersic\")\n",
    "#             new_catalog_dict={\"config\":new_config_dict,\"catalog\":tmp_catalog[sel]}\n",
    "#             catalogs[j]=new_catalog_dict\n",
    "            "
   ]
  },
  {
   "cell_type": "code",
   "execution_count": null,
   "id": "265434b8-7968-4ddc-b112-9b79cc292489",
   "metadata": {
    "tags": []
   },
   "outputs": [],
   "source": [
    "x=[catalogs[i][\"config\"][\"dwarfs\"][0][\"r_scale\"] for i in catalogs.keys()]\n",
    "y=[catalogs[i][\"config\"][\"dwarfs\"][0][\"m_v\"] for i in catalogs.keys()]\n",
    "plt.figure()\n",
    "plt.scatter(x,y)\n",
    "plt.xscale('log')\n",
    "plt.ylim(5,-20)\n",
    "plt.xlabel(\"log r_scale\")\n",
    "plt.ylabel(\"MV\")\n",
    "plt.savefig(\"./parameters_space_MV_logr.png\")"
   ]
  },
  {
   "cell_type": "code",
   "execution_count": null,
   "id": "c78d40ba-ea78-40e1-96e2-4b5e1f3d4887",
   "metadata": {
    "tags": []
   },
   "outputs": [],
   "source": [
    "inject_config = si.CoaddInjectConfig()\n",
    "inject_task = si.CoaddInjectTask(config=inject_config)"
   ]
  },
  {
   "cell_type": "code",
   "execution_count": null,
   "id": "e0ce9168-ed98-4e5f-b7e5-1670e9bbd940",
   "metadata": {
    "tags": []
   },
   "outputs": [],
   "source": [
    "for i in tqdm(catalogs.keys()):\n",
    "    inject_output = inject_task.run(\n",
    "        injection_catalogs=[catalogs[i][\"catalog\"]],\n",
    "        input_exposure=image_dict['g'].clone(),\n",
    "        psf=image_dict['g'].getPsf(),\n",
    "        photo_calib=image_dict['g'].getPhotoCalib(),\n",
    "        wcs=image_dict['g'].getWcs(),\n",
    "    )\n",
    "    catalogs[i][\"image\"]=inject_output.output_exposure\n",
    "    \n",
    "    \n",
    "    \n"
   ]
  },
  {
   "cell_type": "code",
   "execution_count": null,
   "id": "102d3f2a-3f17-47ab-87c6-02d3e41eaeba",
   "metadata": {
    "tags": []
   },
   "outputs": [],
   "source": [
    "i=2\n",
    "fig, axs_arr = plt.subplots(1, 1, figsize=(11/3, 3), dpi=150)\n",
    "axs=axs_arr\n",
    "minx=bbox.beginX\n",
    "plt.sca(axs)\n",
    "img=catalogs[i][\"image\"].image[minx+x_cen-300:minx+x_cen+300, y_cen-300:y_cen+300]\n",
    "#img-=image_dict['g'].image[minx+x_cen-300:minx+x_cen+300, y_cen-300:y_cen+300]\n",
    "display0 = afwDisplay.Display(frame=fig)\n",
    "display0.scale('linear', min=-0.1, max=0.25)\n",
    "display0.mtv(img\n",
    "             \n",
    "            )\n",
    "title_str=f'log_rh={catalogs[i][\"config\"][\"dwarfs\"][0][\"r_scale\"]:0.0f} pc, '\n",
    "title_str+=f'Mv={catalogs[i][\"config\"][\"dwarfs\"][0][\"m_v\"]:0.1f}, '\n",
    "title_str+=f'sb={catalogs[i][\"config\"][\"dwarfs\"][0][\"sb\"]:0.1f}'\n",
    "title_str+=f'\\nsersicmag{catalogs[i][\"catalog\"][\"mag\"][-1]:0.2f}'\n",
    "title_str+=f'\\nsersicmag{catalogs[i][\"catalog\"][\"half_light_radius\"][-1]:0.2f}'\n",
    "plt.title(title_str)\n",
    "\n",
    "\n",
    "\n"
   ]
  },
  {
   "cell_type": "code",
   "execution_count": null,
   "id": "1499d93a-d641-4cdf-88d6-fdf8bacc980c",
   "metadata": {
    "tags": []
   },
   "outputs": [],
   "source": [
    "len(catalogs)"
   ]
  },
  {
   "cell_type": "code",
   "execution_count": null,
   "id": "cb1cad1b-90bf-49e8-b3f5-47d227c94955",
   "metadata": {
    "tags": []
   },
   "outputs": [],
   "source": [
    "minx=bbox.beginX\n",
    "miny=bbox.beginY\n",
    "# plot_si_calexp.image.array = gaussian_filter(si_calexp.image.array, sigma=3)\n",
    "nrows=ceil((len(catalogs) ) / 4)\n",
    "fig, axs_arr = plt.subplots(nrows+1, 4, figsize=(12, 3 * nrows), dpi=150)\n",
    "axs=axs_arr.ravel()\n",
    "plt.sca(ax=axs[2])\n",
    "display0 = afwDisplay.Display(frame=fig)\n",
    "# display0.scale('asinh', min=-5/Q, max=25/Q, Q=Q)\n",
    "# display0.scale('linear', 'zscale')\n",
    "display0.scale('linear', min=-0.10, max=0.25)\n",
    "#display0.mtv(coadd_g.image)\n",
    "display0.mtv(image_dict['g'].image[minx+x_cen-300:minx+x_cen+300, y_cen-300:y_cen+300])\n",
    "plt.title('coadd image')\n",
    "\n",
    "for i in [0,1,3]:\n",
    "    if i ==1:\n",
    "        axs[i].set_title(f\"injection dist = {dist} mpc\")\n",
    "    axs[i].set_axis_off()\n",
    "\n",
    "for i in tqdm(catalogs.keys()):\n",
    "#for i in tqdm(np.array([1,2,3,4])*4):\n",
    "    scale=ceil(i / 4)\n",
    "    plt.sca(axs[3+i])\n",
    "    \n",
    "    display0 = afwDisplay.Display(frame=fig)\n",
    "    display0.scale('linear', min=-0.10, max=1/scale)\n",
    "    \n",
    "    display0.mtv(catalogs[i][\"image\"].image[minx+x_cen-300:minx+x_cen+300, y_cen-300:y_cen+300])\n",
    "    title_str=f'log_rh={catalogs[i][\"config\"][\"dwarfs\"][0][\"r_scale\"]:0.0f} pc, '\n",
    "    title_str+=f'Mv={catalogs[i][\"config\"][\"dwarfs\"][0][\"m_v\"]:0.1f}, '\n",
    "    title_str+=f'\\nsb={catalogs[i][\"config\"][\"dwarfs\"][0][\"sb\"]:0.1f},'\n",
    "    plt.title(title_str)\n",
    "\n",
    "\n",
    "plt.tight_layout()\n",
    "plt.savefig(f\"./sb_rh_test_{dist}_mpc.png\")\n",
    "# plt.close()"
   ]
  },
  {
   "cell_type": "code",
   "execution_count": null,
   "id": "f68ff117-2190-4e86-9aea-bb0ec129e6d8",
   "metadata": {},
   "outputs": [],
   "source": []
  },
  {
   "cell_type": "code",
   "execution_count": null,
   "id": "64a01852-ee25-40f0-af7c-46e1b67735b3",
   "metadata": {},
   "outputs": [],
   "source": []
  }
 ],
 "metadata": {
  "kernelspec": {
   "display_name": "LSST",
   "language": "python",
   "name": "lsst"
  },
  "language_info": {
   "codemirror_mode": {
    "name": "ipython",
    "version": 3
   },
   "file_extension": ".py",
   "mimetype": "text/x-python",
   "name": "python",
   "nbconvert_exporter": "python",
   "pygments_lexer": "ipython3",
   "version": "3.11.4"
  }
 },
 "nbformat": 4,
 "nbformat_minor": 5
}
